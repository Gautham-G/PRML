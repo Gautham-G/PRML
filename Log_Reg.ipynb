{
 "cells": [
  {
   "cell_type": "markdown",
   "metadata": {},
   "source": [
    "# Logistic Regression"
   ]
  },
  {
   "cell_type": "markdown",
   "metadata": {},
   "source": [
    "### This dataset contains information of users from a company’s database. It contains information about User ID, Gender, Age, Estimated Salary, Purchased. We are using this dataset for predicting that a user will purchase the company’s newly launched product or not."
   ]
  },
  {
   "cell_type": "code",
   "execution_count": 17,
   "metadata": {},
   "outputs": [],
   "source": [
    "import numpy as np\n",
    "import pandas as pd\n",
    "import matplotlib.pyplot as plt\n",
    "import seaborn as sns\n",
    "sns.set_style('whitegrid')\n",
    "from sklearn.metrics import accuracy_score #Using sklearn only to check accuracy"
   ]
  },
  {
   "cell_type": "code",
   "execution_count": 2,
   "metadata": {},
   "outputs": [],
   "source": [
    "user_data = pd.read_csv('User_Data.csv')"
   ]
  },
  {
   "cell_type": "code",
   "execution_count": 3,
   "metadata": {},
   "outputs": [
    {
     "data": {
      "text/html": [
       "<div>\n",
       "<style scoped>\n",
       "    .dataframe tbody tr th:only-of-type {\n",
       "        vertical-align: middle;\n",
       "    }\n",
       "\n",
       "    .dataframe tbody tr th {\n",
       "        vertical-align: top;\n",
       "    }\n",
       "\n",
       "    .dataframe thead th {\n",
       "        text-align: right;\n",
       "    }\n",
       "</style>\n",
       "<table border=\"1\" class=\"dataframe\">\n",
       "  <thead>\n",
       "    <tr style=\"text-align: right;\">\n",
       "      <th></th>\n",
       "      <th>User ID</th>\n",
       "      <th>Gender</th>\n",
       "      <th>Age</th>\n",
       "      <th>EstimatedSalary</th>\n",
       "      <th>Purchased</th>\n",
       "    </tr>\n",
       "  </thead>\n",
       "  <tbody>\n",
       "    <tr>\n",
       "      <th>0</th>\n",
       "      <td>15624510</td>\n",
       "      <td>Male</td>\n",
       "      <td>19</td>\n",
       "      <td>19000</td>\n",
       "      <td>0</td>\n",
       "    </tr>\n",
       "    <tr>\n",
       "      <th>1</th>\n",
       "      <td>15810944</td>\n",
       "      <td>Male</td>\n",
       "      <td>35</td>\n",
       "      <td>20000</td>\n",
       "      <td>0</td>\n",
       "    </tr>\n",
       "    <tr>\n",
       "      <th>2</th>\n",
       "      <td>15668575</td>\n",
       "      <td>Female</td>\n",
       "      <td>26</td>\n",
       "      <td>43000</td>\n",
       "      <td>0</td>\n",
       "    </tr>\n",
       "    <tr>\n",
       "      <th>3</th>\n",
       "      <td>15603246</td>\n",
       "      <td>Female</td>\n",
       "      <td>27</td>\n",
       "      <td>57000</td>\n",
       "      <td>0</td>\n",
       "    </tr>\n",
       "    <tr>\n",
       "      <th>4</th>\n",
       "      <td>15804002</td>\n",
       "      <td>Male</td>\n",
       "      <td>19</td>\n",
       "      <td>76000</td>\n",
       "      <td>0</td>\n",
       "    </tr>\n",
       "  </tbody>\n",
       "</table>\n",
       "</div>"
      ],
      "text/plain": [
       "    User ID  Gender  Age  EstimatedSalary  Purchased\n",
       "0  15624510    Male   19            19000          0\n",
       "1  15810944    Male   35            20000          0\n",
       "2  15668575  Female   26            43000          0\n",
       "3  15603246  Female   27            57000          0\n",
       "4  15804002    Male   19            76000          0"
      ]
     },
     "execution_count": 3,
     "metadata": {},
     "output_type": "execute_result"
    }
   ],
   "source": [
    "user_data.head()"
   ]
  },
  {
   "cell_type": "code",
   "execution_count": 4,
   "metadata": {},
   "outputs": [],
   "source": [
    "X = user_data.drop(['Gender', 'User ID', 'Purchased'], axis = 1)\n",
    "y = user_data.drop(['Gender', 'User ID', 'Age', 'EstimatedSalary'], axis = 1)\n",
    "#Scale Data\n",
    "X['Age'] = (X['Age']-np.mean(X['Age']))/np.std(X['Age'])\n",
    "X['EstimatedSalary'] = (X['EstimatedSalary']-np.mean(X['EstimatedSalary']))/np.std(X['EstimatedSalary'])"
   ]
  },
  {
   "cell_type": "code",
   "execution_count": 5,
   "metadata": {},
   "outputs": [],
   "source": [
    "X = np.array(X)\n",
    "y = np.array(y)"
   ]
  },
  {
   "cell_type": "code",
   "execution_count": 6,
   "metadata": {},
   "outputs": [],
   "source": [
    "k = 0.6\n",
    "p = int(k*400)\n",
    "X_train = X[:p]\n",
    "X_test = X[p:]\n",
    "y_train = y[:p]\n",
    "y_test = y[p:]"
   ]
  },
  {
   "cell_type": "code",
   "execution_count": 7,
   "metadata": {},
   "outputs": [],
   "source": [
    "def weightInitialization(n_features):\n",
    "    w = np.zeros((1,n_features))\n",
    "    b = 0\n",
    "    return w,b"
   ]
  },
  {
   "cell_type": "code",
   "execution_count": 8,
   "metadata": {},
   "outputs": [],
   "source": [
    "def sigmoid_activation(result):\n",
    "    final_result = 1/(1+np.exp(-result))\n",
    "    return final_result"
   ]
  },
  {
   "cell_type": "code",
   "execution_count": 9,
   "metadata": {},
   "outputs": [],
   "source": [
    "def opt(w, b, X, Y):\n",
    "    m = X.shape[0]\n",
    "    final_result = sigmoid_activation(np.dot(w,X.T)+b)\n",
    "    Y_T = Y.T\n",
    "    cost = (-1/m)*(np.sum((Y_T*np.log(final_result)) + ((1-Y_T)*(np.log(1-final_result)))))\n",
    "    dw = (1/m)*(np.dot(X.T, (final_result-Y.T).T))\n",
    "    db = (1/m)*(np.sum(final_result-Y.T))\n",
    "    grads = {\"dw\": dw, \"db\": db}\n",
    "    \n",
    "    return grads, cost"
   ]
  },
  {
   "cell_type": "code",
   "execution_count": 10,
   "metadata": {},
   "outputs": [],
   "source": [
    "def pred_model(w, b, X, Y, learning_rate, no_iterations):\n",
    "    costs = []\n",
    "    for i in range(no_iterations):\n",
    "        \n",
    "        grads, cost = opt(w,b,X,Y)\n",
    "        \n",
    "        dw = grads[\"dw\"]\n",
    "        db = grads[\"db\"]\n",
    "        w = w - (learning_rate * (dw.T))\n",
    "        b = b - (learning_rate * db)\n",
    "\n",
    "        if (i % 100 == 0):\n",
    "            costs.append(cost)\n",
    "            print(\"Cost after %i iteration is %f\" %(i, cost))\n",
    "    \n",
    "    #final parameters\n",
    "    coeff = {\"w\": w, \"b\": b}\n",
    "    gradient = {\"dw\": dw, \"db\": db}\n",
    "    \n",
    "    return coeff, gradient, costs"
   ]
  },
  {
   "cell_type": "code",
   "execution_count": 11,
   "metadata": {},
   "outputs": [],
   "source": [
    "def predict(final_pred, m):\n",
    "    y_pred = np.zeros((1,m))\n",
    "    for i in range(final_pred.shape[1]):\n",
    "        if final_pred[0][i] > 0.5:\n",
    "            y_pred[0][i] = 1\n",
    "    return y_pred"
   ]
  },
  {
   "cell_type": "code",
   "execution_count": 12,
   "metadata": {},
   "outputs": [],
   "source": [
    "n_features = X_train.shape[1]\n",
    "w, b = weightInitialization(n_features) #Initailizing model parameters"
   ]
  },
  {
   "cell_type": "code",
   "execution_count": 13,
   "metadata": {},
   "outputs": [
    {
     "name": "stdout",
     "output_type": "stream",
     "text": [
      "Cost after 0 iteration is 0.693147\n",
      "Cost after 100 iteration is 0.594624\n",
      "Cost after 200 iteration is 0.527106\n",
      "Cost after 300 iteration is 0.479576\n",
      "Cost after 400 iteration is 0.445061\n",
      "Cost after 500 iteration is 0.419243\n",
      "Cost after 600 iteration is 0.399413\n",
      "Cost after 700 iteration is 0.383830\n",
      "Cost after 800 iteration is 0.371341\n",
      "Cost after 900 iteration is 0.361161\n",
      "Cost after 1000 iteration is 0.352741\n",
      "Cost after 1100 iteration is 0.345689\n",
      "Cost after 1200 iteration is 0.339716\n",
      "Cost after 1300 iteration is 0.334608\n",
      "Cost after 1400 iteration is 0.330202\n",
      "Cost after 1500 iteration is 0.326372\n",
      "Cost after 1600 iteration is 0.323020\n",
      "Cost after 1700 iteration is 0.320069\n",
      "Cost after 1800 iteration is 0.317456\n",
      "Cost after 1900 iteration is 0.315131\n",
      "Cost after 2000 iteration is 0.313052\n",
      "Cost after 2100 iteration is 0.311186\n",
      "Cost after 2200 iteration is 0.309505\n",
      "Cost after 2300 iteration is 0.307985\n",
      "Cost after 2400 iteration is 0.306605\n",
      "Cost after 2500 iteration is 0.305350\n",
      "Cost after 2600 iteration is 0.304205\n",
      "Cost after 2700 iteration is 0.303157\n",
      "Cost after 2800 iteration is 0.302196\n",
      "Cost after 2900 iteration is 0.301313\n",
      "Cost after 3000 iteration is 0.300500\n",
      "Cost after 3100 iteration is 0.299749\n",
      "Cost after 3200 iteration is 0.299055\n",
      "Cost after 3300 iteration is 0.298413\n",
      "Cost after 3400 iteration is 0.297816\n",
      "Cost after 3500 iteration is 0.297263\n",
      "Cost after 3600 iteration is 0.296747\n",
      "Cost after 3700 iteration is 0.296267\n",
      "Cost after 3800 iteration is 0.295819\n",
      "Cost after 3900 iteration is 0.295401\n",
      "Cost after 4000 iteration is 0.295009\n",
      "Cost after 4100 iteration is 0.294643\n",
      "Cost after 4200 iteration is 0.294299\n",
      "Cost after 4300 iteration is 0.293977\n",
      "Cost after 4400 iteration is 0.293675\n"
     ]
    }
   ],
   "source": [
    "#Gradient Descent\n",
    "coeff, gradient, costs = pred_model(w, b, X_train, y_train, learning_rate=0.005,no_iterations=4500)"
   ]
  },
  {
   "cell_type": "code",
   "execution_count": 14,
   "metadata": {},
   "outputs": [
    {
     "name": "stdout",
     "output_type": "stream",
     "text": [
      "Optimized weights [[1.343175   1.05893885]]\n",
      "Optimized intercept -1.23698439912055\n"
     ]
    }
   ],
   "source": [
    "#Final prediction\n",
    "w = coeff[\"w\"]\n",
    "b = coeff[\"b\"]\n",
    "print('Optimized weights', w) #Weights\n",
    "print('Optimized intercept',b) #Bias"
   ]
  },
  {
   "cell_type": "code",
   "execution_count": 15,
   "metadata": {},
   "outputs": [],
   "source": [
    "final_train_pred = sigmoid_activation(np.dot(w,X_train.T)+b)\n",
    "final_test_pred = sigmoid_activation(np.dot(w,X_test.T)+b)"
   ]
  },
  {
   "cell_type": "code",
   "execution_count": 18,
   "metadata": {},
   "outputs": [
    {
     "name": "stdout",
     "output_type": "stream",
     "text": [
      "Test Accuracy 0.75625\n",
      "Training Accuracy 0.8666666666666667\n"
     ]
    }
   ],
   "source": [
    "m_tr =  X_train.shape[0]\n",
    "m_ts =  X_test.shape[0]\n",
    "y_train_pred = predict(final_train_pred, m_tr)\n",
    "y_test_pred = predict(final_test_pred, m_ts)\n",
    "print('Test Accuracy',accuracy_score(y_test_pred.T, y_test))\n",
    "print('Training Accuracy',accuracy_score(y_train_pred.T, y_train))"
   ]
  }
 ],
 "metadata": {
  "kernelspec": {
   "display_name": "Python 3",
   "language": "python",
   "name": "python3"
  },
  "language_info": {
   "codemirror_mode": {
    "name": "ipython",
    "version": 3
   },
   "file_extension": ".py",
   "mimetype": "text/x-python",
   "name": "python",
   "nbconvert_exporter": "python",
   "pygments_lexer": "ipython3",
   "version": "3.6.9"
  }
 },
 "nbformat": 4,
 "nbformat_minor": 4
}
